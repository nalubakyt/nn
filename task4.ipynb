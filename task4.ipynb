{
 "cells": [
  {
   "cell_type": "code",
   "execution_count": null,
   "metadata": {},
   "outputs": [],
   "source": [
    "!pip install kanren"
   ]
  },
  {
   "cell_type": "code",
   "execution_count": 1,
   "metadata": {},
   "outputs": [],
   "source": [
    "from kanren import *\n",
    "from kanren.core import lall"
   ]
  },
  {
   "cell_type": "code",
   "execution_count": 16,
   "metadata": {},
   "outputs": [],
   "source": [
    "def left(q, p, list):\n",
    "    return membero((q,p), zip(list, list[1:]))\n",
    "\n",
    "def next(q, p, list):\n",
    "    return conde([left(q, p, list)], [left(p, q, list)])"
   ]
  },
  {
   "cell_type": "raw",
   "metadata": {},
   "source": [
    "Каждому кораблю — в свой порт\n",
    "В порте пять кораблей.\n",
    "1.+ Греческий корабль отчаливает в шесть. Он везет кофе.\n",
    "2.+ У корабля, который в середине — черная труба.\n",
    "3.+ Английский корабль отплывает в девять.\n",
    "4.+ Французский корабль, у которого синяя труба, пришвартован слева от корабля, который везет кофе.\n",
    "5.+ Справа от корабля, на котором груз какао, корабль, который плывет в Марсель.\n",
    "6.+ Корабль под бразильским флагом направляется на Манилы.\n",
    "7.+ Рядом с кораблем, на котором рис, — корабль с зеленой трубой.\n",
    "8.+ Корабль, плывущий в Геную, отходит в пять.\n",
    "9.+ Испанский корабль отплывает в семь и находится справа от корабля, плывущего в Марсель.\n",
    "10.+ Корабль с красной трубой направляется в Гамбург.\n",
    "11.+ Рядом с кораблем, который отчаливает в семь, корабль с белой трубой.\n",
    "12.+ На крайнем корабле — зерно.\n",
    "13.+ Корабль с черной трубой отплывает в восемь. //\n",
    "14.+ Корабль с зерном пришвартован рядом с кораблем, на котором груз риса.\n",
    "15. Корабль, следующий до Гамбурга, отчаливает в 6.\n",
    "Вопрос:\n",
    "Который корабль плывет в Порт-Саид? Который гружен чаем?"
   ]
  },
  {
   "cell_type": "code",
   "execution_count": 17,
   "metadata": {},
   "outputs": [],
   "source": [
    "ship = var()"
   ]
  },
  {
   "cell_type": "code",
   "execution_count": 78,
   "metadata": {},
   "outputs": [],
   "source": [
    "rules_zebraproblem = lall(\n",
    "    (eq, (var(), var(), var(), var(), var()), ship),\n",
    "    (membero,('Греческий', '6', 'кофе', var(), var()), ship),\n",
    "    \n",
    "    (eq,(var(), var(), (var(), var(), var(), 'черной трубой', var()), var(), var()), ship),\n",
    "    \n",
    "    (membero,('Английский', '9', var(), var(), var()), ship),\n",
    "    \n",
    "    (left,(var(), var(), 'кофе', var(), var()),('Французский', var(), var(), 'синий трубой', var()), ship),\n",
    "    \n",
    "    (left,(var(), var(), var(), var(), 'Марсель'),(var(), var(), 'какао', var(), var()), ship),\n",
    "    \n",
    "    (membero,('Бразильский', var(), var(), var(), 'Манилы'), ship),\n",
    "    \n",
    "    (next,(var(), var(), var(), 'зеленой трубой', var()),(var(), var(), 'рис', var(), var()), ship),\n",
    "    \n",
    "    (membero,(var(), '5', var(), var(), 'Геную'), ship),\n",
    "    \n",
    "    (left,('Испанский', '7', var(), var(), var()),(var(), var(), var(), var(), 'Марсель'), ship),\n",
    "    \n",
    "    (membero,(var(), var(), var(), 'красной трубой', 'Гамбург'), ship),\n",
    "    \n",
    "    (next,(var(), var(), var(), 'белой трубой', var()),(var(), '7', var(), var(), var()), ship),\n",
    "    \n",
    "    (eq,((var(), var(), 'зерно', var(), var()),var(), var(), var(), var()), ship),\n",
    "    \n",
    "    (membero,(var(), '8', var(), 'черной трубой', var()), ship),\n",
    "    \n",
    "    (next,(var(), var(), 'зерно', var(), var()),(var(), var(), 'рис', var(), var()), ship),\n",
    "    \n",
    "    (membero,(var(), '6', var(), var(), 'Гамбург'), ship),\n",
    "    \n",
    "    (membero,(var(), var(), var(), var(), 'Порт-Саид'), ship),\n",
    "    (membero,(var(), var(), 'чай', var(), var()), ship)\n",
    ")"
   ]
  },
  {
   "cell_type": "code",
   "execution_count": 79,
   "metadata": {},
   "outputs": [],
   "source": [
    "solutions = run(0, ship, rules_zebraproblem)"
   ]
  },
  {
   "cell_type": "code",
   "execution_count": 80,
   "metadata": {},
   "outputs": [
    {
     "data": {
      "text/plain": [
       "((('Испанский', '7', 'зерно', 'зеленой трубой', 'Порт-Саид'),\n",
       "  ('Английский', '9', 'рис', 'белой трубой', 'Марсель'),\n",
       "  ('Бразильский', '8', 'какао', 'черной трубой', 'Манилы'),\n",
       "  ('Греческий', '6', 'кофе', 'красной трубой', 'Гамбург'),\n",
       "  ('Французский', '5', 'чай', 'синий трубой', 'Геную')),)"
      ]
     },
     "execution_count": 80,
     "metadata": {},
     "output_type": "execute_result"
    }
   ],
   "source": [
    "solutions"
   ]
  },
  {
   "cell_type": "code",
   "execution_count": null,
   "metadata": {},
   "outputs": [],
   "source": []
  }
 ],
 "metadata": {
  "kernelspec": {
   "display_name": "Python 3",
   "language": "python",
   "name": "python3"
  },
  "language_info": {
   "codemirror_mode": {
    "name": "ipython",
    "version": 3
   },
   "file_extension": ".py",
   "mimetype": "text/x-python",
   "name": "python",
   "nbconvert_exporter": "python",
   "pygments_lexer": "ipython3",
   "version": "3.7.4"
  }
 },
 "nbformat": 4,
 "nbformat_minor": 4
}
